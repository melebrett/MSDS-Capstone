{
 "cells": [
  {
   "cell_type": "code",
   "execution_count": null,
   "metadata": {},
   "outputs": [],
   "source": [
    "import pandas as pd\n",
    "import numpy as np\n",
    "import matplotlib.pyplot as plt\n",
    "import seaborn as sns\n",
    "import utils\n",
    "import time\n",
    "import re\n",
    "from tqdm import tqdm\n",
    "from fuzzywuzzy import process, fuzz"
   ]
  },
  {
   "cell_type": "code",
   "execution_count": null,
   "metadata": {},
   "outputs": [],
   "source": [
    "def fuzzy_match_events(map_df, map_to_df, map_event_col, map_to_event_col):\n",
    "    result = pd.DataFrame()\n",
    "    errors = []\n",
    "\n",
    "    # remove punctuation from both names if the value is not missing\n",
    "    map_df['clean_event'] = map_df[map_event_col].apply(lambda x: re.sub(r'[^\\w\\s]', '', x))\n",
    "    map_to_df['clean_event'] = map_to_df[map_to_event_col].apply(lambda x: re.sub(r'[^\\w\\s]', '', x))\n",
    "    \n",
    "    # iterate through map_df\n",
    "    for index, row in map_df.iterrows():\n",
    "\n",
    "        try:\n",
    "            # filter for season = row.season\n",
    "            tmp = map_to_df[map_to_df['season'] == row['season']]\n",
    "            ratio = process.extract(\n",
    "                row['clean_event'].lower(),\n",
    "                tmp['clean_event'].str.lower(),\n",
    "                limit = 1\n",
    "            )\n",
    "            matches = pd.DataFrame(ratio, columns = ['map_event', 'score', 'index'])\n",
    "            matches['map_index'] = index\n",
    "            matches['map_event'] = row[map_event_col]\n",
    "            matches = pd.merge(\n",
    "                matches,\n",
    "                tmp,\n",
    "                left_on = 'index',\n",
    "                right_index = True,\n",
    "                how = 'left'\n",
    "            )\n",
    "            matches = matches.sort_values(by = ['score'], ascending = False)\n",
    "            # concat to result\n",
    "            result = pd.concat([result, matches])\n",
    "        except Exception as e: \n",
    "            print(f\"Error on {row[map_event_col]}\")\n",
    "            # add the error message to the row\n",
    "            row['error'] = e\n",
    "            errors.append(row)\n",
    "\n",
    "    return result, errors"
   ]
  },
  {
   "cell_type": "code",
   "execution_count": null,
   "metadata": {},
   "outputs": [],
   "source": [
    "conn = utils.db_connect()\n",
    "\n",
    "event_money = pd.read_sql('select * from gold.winnings', conn)\n",
    "event_money_events = event_money[['event_name', 'season']].drop_duplicates()\n",
    "events = pd.read_sql('select distinct event_id, event_name, calendar_year, season, tour from gold.events', conn)\n",
    "\n",
    "fuzzy_mappings, err = fuzzy_match_events(event_money_events, events, 'event_name', 'event_name')\n",
    "matches = fuzzy_mappings[fuzzy_mappings.score > 87]\n",
    "checks = fuzzy_mappings[fuzzy_mappings.score <= 87]\n",
    "\n",
    "matches.sort_values(by = ['score'], ascending = True, inplace=True)\n",
    "\n",
    "for index, row in matches.iterrows():\n",
    "    print(row.score, row.calendar_year, row.map_event, row.event_name)"
   ]
  },
  {
   "cell_type": "code",
   "execution_count": null,
   "metadata": {},
   "outputs": [],
   "source": [
    "# find us open\n",
    "# event_money_events[event_money_events['event_name'].str.contains('U.S. Open')]\n",
    "# events[events['event_name'].str.contains('U.S. Open')]"
   ]
  },
  {
   "cell_type": "code",
   "execution_count": null,
   "metadata": {},
   "outputs": [],
   "source": [
    "matches = matches[matches['map_event'] != 'U.S. Open (2021)']\n",
    "matches.to_csv('matches.csv', index=False)\n",
    "checks.to_csv('missed_events.csv', index=False)"
   ]
  },
  {
   "cell_type": "code",
   "execution_count": null,
   "metadata": {},
   "outputs": [],
   "source": [
    "matches_final = pd.read_csv('matches_final.csv')"
   ]
  },
  {
   "cell_type": "code",
   "execution_count": null,
   "metadata": {},
   "outputs": [],
   "source": [
    "# rename\n",
    "final = matches_final[['event_id',  'event_name', 'map_event', 'calendar_year', 'season']].rename(\n",
    "    columns = {'event_id':'dg_event_id', 'event_name':'dg_event_name', 'map_event': 'pga_event_name', 'season': 'pga_season'}\n",
    "    )\n",
    "\n",
    "final['tour'] = 'pga'\n",
    "\n",
    "final.head()"
   ]
  },
  {
   "cell_type": "markdown",
   "metadata": {},
   "source": [
    "Check missing:"
   ]
  },
  {
   "cell_type": "code",
   "execution_count": null,
   "metadata": {},
   "outputs": [],
   "source": [
    "# Merge the two DataFrames and mark the rows that exist in both\n",
    "merged_events = events.merge(final, \n",
    "                             left_on=['event_id', 'calendar_year', 'tour'], \n",
    "                             right_on=['dg_event_id', 'calendar_year', 'tour'], \n",
    "                             how='left', \n",
    "                             indicator=True)\n",
    "\n",
    "# Filter out the rows that exist in both DataFrames\n",
    "events_filtered = merged_events[merged_events['_merge'] == 'left_only']\n",
    "\n",
    "# Drop the indicator column if you don't need it\n",
    "events_filtered.drop(columns='_merge', inplace=True)\n",
    "\n",
    "events_filtered[events_filtered['tour'] == 'pga'].sort_values(by = ['event_name', 'calendar_year', 'event_id'])"
   ]
  },
  {
   "cell_type": "markdown",
   "metadata": {},
   "source": [
    "Added tour championship manually. Hero World not going to be included, benefits Tiger foundation so no money. Olympics not included, no money. Players was cancelled in 2020."
   ]
  },
  {
   "cell_type": "code",
   "execution_count": null,
   "metadata": {},
   "outputs": [],
   "source": [
    "# write to db\n",
    "drop_statement = \"\"\"\n",
    "DROP TABLE IF EXISTS gold.event_xref;\n",
    "\"\"\"\n",
    "\n",
    "create_statement = \"\"\"\n",
    "CREATE TABLE gold.event_xref (\n",
    "    id serial PRIMARY KEY,\n",
    "    dg_event_id integer,\n",
    "    dg_event_name varchar(255),\n",
    "    pga_event_name varchar(255),\n",
    "    calendar_year int,\n",
    "    pga_season int,\n",
    "    tour varchar(255)\n",
    ");\n",
    "\"\"\"\n",
    "\n",
    "conn.execute(drop_statement)\n",
    "conn.execute(create_statement)\n",
    "\n",
    "utils.write_to_db(final, 'event_xref', schema='gold', append=True)"
   ]
  }
 ],
 "metadata": {
  "language_info": {
   "name": "python"
  },
  "orig_nbformat": 4
 },
 "nbformat": 4,
 "nbformat_minor": 2
}
